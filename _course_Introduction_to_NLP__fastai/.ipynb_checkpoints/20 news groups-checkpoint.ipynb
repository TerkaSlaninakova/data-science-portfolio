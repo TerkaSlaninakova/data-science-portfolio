{
 "cells": [
  {
   "cell_type": "markdown",
   "metadata": {},
   "source": [
    "# 20 news groups Dataset\n",
    "\n",
    "Dataset: discussion groups on Usenet (forum in 80s-90s)\n",
    "- 18k docs\n",
    "- topic models\n",
    "\n",
    "## Topic modelling problem\n",
    "- Using SVD\n",
    "- Using NMF"
   ]
  },
  {
   "cell_type": "code",
   "execution_count": 2,
   "metadata": {},
   "outputs": [],
   "source": [
    "from sklearn.datasets import fetch_20newsgroups\n",
    "import numpy as np\n",
    "import matplotlib.pyplot as plt"
   ]
  },
  {
   "cell_type": "code",
   "execution_count": 3,
   "metadata": {},
   "outputs": [],
   "source": [
    "# pick out 4 topics only\n",
    "categories = ['alt.atheism', 'talk.religion.misc', 'comp.graphics', 'sci.space']\n",
    "remove = ('headers', 'footers', 'quotes')\n",
    "newsgroups_train = fetch_20newsgroups(subset='train', categories=categories, remove=remove)\n",
    "newsgroups_test = fetch_20newsgroups(subset='test', categories=categories, remove=remove)"
   ]
  },
  {
   "cell_type": "markdown",
   "metadata": {},
   "source": [
    "## Cluster the data into topics using unsupervised SVD\n",
    "- fit the CountVectorizer\n",
    "- use SVD to make the clusters"
   ]
  },
  {
   "cell_type": "code",
   "execution_count": 4,
   "metadata": {},
   "outputs": [
    {
     "name": "stdout",
     "output_type": "stream",
     "text": [
      "Wall time: 27.5 s\n"
     ]
    }
   ],
   "source": [
    "from sklearn.feature_extraction.text import CountVectorizer, TfidfVectorizer\n",
    "vectorizer = CountVectorizer(stop_words='english')\n",
    "vectors = vectorizer.fit_transform(newsgroups_train.data).todense()\n",
    "%time u, s, v = np.linalg.svd(vectors, full_matrices=False)"
   ]
  },
  {
   "cell_type": "code",
   "execution_count": 5,
   "metadata": {},
   "outputs": [
    {
     "name": "stdout",
     "output_type": "stream",
     "text": [
      "(2034, 2034) (2034,) (2034, 26576)\n"
     ]
    }
   ],
   "source": [
    "print(u.shape, s.shape, v.shape)"
   ]
  },
  {
   "cell_type": "markdown",
   "metadata": {},
   "source": [
    "Sort the values in `v` and index into `feature_names` with them to get the topics"
   ]
  },
  {
   "cell_type": "code",
   "execution_count": 41,
   "metadata": {},
   "outputs": [
    {
     "data": {
      "text/plain": [
       "array([13816, 12642,  8956, 10286, 11444, 12652, 11163,  7506, 19372,\n",
       "       10798], dtype=int64)"
      ]
     },
     "execution_count": 41,
     "metadata": {},
     "output_type": "execute_result"
    }
   ],
   "source": [
    "np.array(np.argsort(v[0])[:, :10])[0]"
   ]
  },
  {
   "cell_type": "code",
   "execution_count": 47,
   "metadata": {},
   "outputs": [
    {
     "name": "stdout",
     "output_type": "stream",
     "text": [
      "['jpeg', 'image', 'edu', 'file', 'graphics', 'images', 'gif', 'data', 'pub', 'ftp']\n",
      "['edu', 'graphics', 'data', 'space', 'pub', 'mail', '128', '3d', 'ray', 'nasa']\n",
      "['space', 'jesus', 'launch', 'god', 'people', 'satellite', 'matthew', 'atheists', 'does', 'time']\n",
      "['space', 'launch', 'satellite', 'commercial', 'nasa', 'satellites', 'market', 'year', 'data', 'jpeg']\n",
      "['jpeg', 'graphics', 'space', 'pub', 'edu', 'ray', 'mail', 'send', 'launch', 'file']\n"
     ]
    }
   ],
   "source": [
    "vocab = np.array(vectorizer.get_feature_names())\n",
    "for t in range(5):\n",
    "    print([vocab[i] for i in np.array(np.argsort(v[t])[:, :10])[0]])"
   ]
  },
  {
   "cell_type": "markdown",
   "metadata": {},
   "source": [
    "### Randomized svd\n",
    "#### Why? - Shortcomings of classical algorithms for decomposition:\n",
    "Matrices are \"stupendously big\"\n",
    "Data are often missing or inaccurate. Why spend extra computational resources when imprecision of input limits precision of the output?\n",
    "Data transfer now plays a major role in time of algorithms. Techniques the require fewer passes over the data may be substantially faster, even if they require more flops (flops = floating point operations).\n",
    "Important to take advantage of GPUs."
   ]
  },
  {
   "cell_type": "code",
   "execution_count": null,
   "metadata": {},
   "outputs": [],
   "source": [
    "### Shortcomings of classical algorithms for decomposition:\n",
    "Matrices are \"stupendously big\"\n",
    "Data are often missing or inaccurate. Why spend extra computational resources when imprecision of input limits precision of the output?\n",
    "Data transfer now plays a major role in time of algorithms. Techniques the require fewer passes over the data may be substantially faster, even if they require more flops (flops = floating point operations).\n",
    "Important to take advantage of GPUs."
   ]
  },
  {
   "cell_type": "markdown",
   "metadata": {},
   "source": [
    "## Non-negative matrix factorization (NMF)\n",
    "Rather that constraining factors to be orthogonal, constrain them to be non-negative. Positive factors are oftentimes more interpretable."
   ]
  },
  {
   "cell_type": "code",
   "execution_count": 50,
   "metadata": {},
   "outputs": [
    {
     "ename": "IndexError",
     "evalue": "too many indices for array",
     "output_type": "error",
     "traceback": [
      "\u001b[1;31m---------------------------------------------------------------------------\u001b[0m",
      "\u001b[1;31mIndexError\u001b[0m                                Traceback (most recent call last)",
      "\u001b[1;32m<ipython-input-50-ecbbff93745c>\u001b[0m in \u001b[0;36m<module>\u001b[1;34m\u001b[0m\n\u001b[0;32m      8\u001b[0m \u001b[1;33m\u001b[0m\u001b[0m\n\u001b[0;32m      9\u001b[0m \u001b[1;32mfor\u001b[0m \u001b[0mt\u001b[0m \u001b[1;32min\u001b[0m \u001b[0mrange\u001b[0m\u001b[1;33m(\u001b[0m\u001b[1;36m5\u001b[0m\u001b[1;33m)\u001b[0m\u001b[1;33m:\u001b[0m\u001b[1;33m\u001b[0m\u001b[1;33m\u001b[0m\u001b[0m\n\u001b[1;32m---> 10\u001b[1;33m     \u001b[0mprint\u001b[0m\u001b[1;33m(\u001b[0m\u001b[1;33m[\u001b[0m\u001b[0mvocab\u001b[0m\u001b[1;33m[\u001b[0m\u001b[0mi\u001b[0m\u001b[1;33m]\u001b[0m \u001b[1;32mfor\u001b[0m \u001b[0mi\u001b[0m \u001b[1;32min\u001b[0m \u001b[0mnp\u001b[0m\u001b[1;33m.\u001b[0m\u001b[0marray\u001b[0m\u001b[1;33m(\u001b[0m\u001b[0mnp\u001b[0m\u001b[1;33m.\u001b[0m\u001b[0margsort\u001b[0m\u001b[1;33m(\u001b[0m\u001b[0mH1\u001b[0m\u001b[1;33m[\u001b[0m\u001b[0mt\u001b[0m\u001b[1;33m]\u001b[0m\u001b[1;33m)\u001b[0m\u001b[1;33m[\u001b[0m\u001b[1;33m:\u001b[0m\u001b[1;33m,\u001b[0m \u001b[1;33m:\u001b[0m\u001b[1;36m10\u001b[0m\u001b[1;33m]\u001b[0m\u001b[1;33m)\u001b[0m\u001b[1;33m[\u001b[0m\u001b[1;36m0\u001b[0m\u001b[1;33m]\u001b[0m\u001b[1;33m]\u001b[0m\u001b[1;33m)\u001b[0m\u001b[1;33m\u001b[0m\u001b[1;33m\u001b[0m\u001b[0m\n\u001b[0m",
      "\u001b[1;31mIndexError\u001b[0m: too many indices for array"
     ]
    }
   ],
   "source": [
    "from sklearn.decomposition import NMF\n",
    "m,n=vectors.shape\n",
    "n_topics=5\n",
    "clf = NMF(n_components=n_topics, random_state=1)\n",
    "\n",
    "W1 = clf.fit_transform(vectors)\n",
    "H1 = clf.components_\n",
    "\n",
    "for t in range(5):\n",
    "    print([vocab[i] for i in np.array(np.argsort(H1[t])[:, :10])[0]])"
   ]
  },
  {
   "cell_type": "code",
   "execution_count": 58,
   "metadata": {},
   "outputs": [
    {
     "name": "stdout",
     "output_type": "stream",
     "text": [
      "['intergalactic', 'tr', 'hoover', 'hop', 'tps', 'hoped', 'hopes', 'hopkins', 'tpa', 'horns']\n",
      "['intergalactic', 'libertines', 'liberation', 'liberating', 'liberated', 'liberals', 'liberally', 'libertopian', 'liberal', 'libel']\n",
      "['zyxel', 'chin', 'chimps', 'chimpanzees', 'iowa', 'ipa', 'ipc', 'ipcs', 'children', 'ipl']\n",
      "['00', 'huygens', 'husc6', 'huntsville', 'hungary', 'hulls', 'huji', 'huisman', 'huffman', 'hues']\n",
      "['intergalactic', 'lilac', 'lillee', 'lilly', 'limitation', 'limitations', 'limmat', 'limrick', 'lindabury', 'lindbergh']\n"
     ]
    }
   ],
   "source": [
    "np.argsort(H1[0])[:10]\n",
    "\n",
    "for t in range(5):\n",
    "    print([vocab[i] for i in np.array(np.argsort(H1[t])[:10])])"
   ]
  }
 ],
 "metadata": {
  "kernelspec": {
   "display_name": "Python 3",
   "language": "python",
   "name": "python3"
  },
  "language_info": {
   "codemirror_mode": {
    "name": "ipython",
    "version": 3
   },
   "file_extension": ".py",
   "mimetype": "text/x-python",
   "name": "python",
   "nbconvert_exporter": "python",
   "pygments_lexer": "ipython3",
   "version": "3.7.3"
  }
 },
 "nbformat": 4,
 "nbformat_minor": 2
}
