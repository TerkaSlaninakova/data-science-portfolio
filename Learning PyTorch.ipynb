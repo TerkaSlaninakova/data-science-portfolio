{
 "cells": [
  {
   "cell_type": "markdown",
   "metadata": {},
   "source": [
    "#  Learning Pytorch\n",
    "\n",
    "## 0. PyTorch basics\n",
    "- basic operations\n",
    "- Linear Regression with sample dataset\n",
    "\n",
    "## 1. Preparation\n",
    "- Download the pickle gzipped mnist dataset\n",
    "- Reshape to image and look at the data\n",
    "\n",
    "## 2. Logistic Regression\n",
    "- define a logistic regression model with MSE as loss metric and SGD as an optimizer\n",
    "- run a train-test loop, evaluate the accuracy\n",
    "\n",
    "## 3. Neural Network\n",
    "- define a neural network with multiple hidden layers to improve the performance over Logistic Regression\n",
    "\n",
    "## 4. CNN\n",
    "- TBD\n",
    "\n",
    "## 5. RNN\n",
    "- TBD\n",
    "Sources: \n",
    "- https://github.com/fastai/fastai/blob/master/courses/ml1/lesson4-mnist_sgd.ipynb\n",
    "- https://www.kaggle.com/kanncaa1/pytorch-tutorial-for-deep-learning-lovers"
   ]
  },
  {
   "cell_type": "code",
   "execution_count": 464,
   "metadata": {},
   "outputs": [
    {
     "name": "stdout",
     "output_type": "stream",
     "text": [
      "The autoreload extension is already loaded. To reload it, use:\n",
      "  %reload_ext autoreload\n"
     ]
    }
   ],
   "source": [
    "%load_ext autoreload\n",
    "%autoreload 2\n",
    "%matplotlib inline"
   ]
  },
  {
   "cell_type": "markdown",
   "metadata": {},
   "source": [
    "## 0. PyTorch basics\n",
    "- `.Tensor()` converts to pytorch's tensor\n",
    "- `.from_numpy()` and `.numpy()` for conversion\n",
    "- `.view()` for reshaping\n",
    "- `Variable` from `.autograd` package - var with history, accumulates gradients\n",
    "\n",
    "### Simple car sells - car prices linear regression"
   ]
  },
  {
   "cell_type": "code",
   "execution_count": 465,
   "metadata": {},
   "outputs": [],
   "source": [
    "from ml_helpers.scraping import *\n",
    "from ml_helpers.pytorch import *\n",
    "from sklearn.model_selection import train_test_split\n",
    "import torch"
   ]
  },
  {
   "cell_type": "code",
   "execution_count": 466,
   "metadata": {},
   "outputs": [],
   "source": [
    "car_prices = [3,4,5,6,7,8,9]\n",
    "car_sell = [ 7.5, 7, 6.5, 6.0, 5.5, 5.0, 4.5]\n",
    "car_prices_reshaped = np.array(car_prices, dtype=np.float).reshape(-1,1)\n",
    "car_sell_reshaped = np.array(car_sell, dtype=np.float).reshape(-1,1)\n",
    "car_prices_tensor = Variable(torch.from_numpy(car_prices_reshaped))\n",
    "car_sell_tensor = Variable(torch.from_numpy(car_sell_reshaped))"
   ]
  },
  {
   "cell_type": "code",
   "execution_count": 467,
   "metadata": {},
   "outputs": [
    {
     "data": {
      "image/png": "[encoded data removed]",
      "text/plain": [
       "<Figure size 432x288 with 1 Axes>"
      ]
     },
     "metadata": {
      "needs_background": "light"
     },
     "output_type": "display_data"
    }
   ],
   "source": [
    "import matplotlib.pyplot as plt\n",
    "plt.scatter(car_prices,car_sell)\n",
    "plt.xlabel(\"Car Price $\")\n",
    "plt.ylabel(\"Number of Car Sell\")\n",
    "plt.title(\"Car Price$ VS Number of Car Sell\")\n",
    "plt.show()"
   ]
  },
  {
   "cell_type": "markdown",
   "metadata": {},
   "source": [
    "### Building a Torch model\n",
    "1. Define a class containing at least `__init__` and `forward()` functions representing the model inheriting from `nn.Module`\n",
    "2. in `__init__` define layers from `nn` that'll be used in the model\n",
    "\n",
    "### Using a Torch model\n",
    "- instantiate the model\n",
    "- define a loss metric\n",
    "- define an optimizer\n",
    "- create a training loop"
   ]
  },
  {
   "cell_type": "code",
   "execution_count": 468,
   "metadata": {},
   "outputs": [
    {
     "name": "stdout",
     "output_type": "stream",
     "text": [
      "Epoch: 500, loss: 10.784916971917141\n",
      "Epoch: 500, loss: 5.22842851011311\n",
      "Epoch: 500, loss: 3.533068338538453\n",
      "Epoch: 500, loss: 2.3874423950979535\n",
      "Epoch: 500, loss: 1.61329491641505\n",
      "Epoch: 500, loss: 1.090171010062782\n",
      "Epoch: 500, loss: 0.7366742553322146\n",
      "Epoch: 500, loss: 0.49780167832386296\n",
      "Epoch: 500, loss: 0.33638546365422073\n",
      "Epoch: 500, loss: 0.22730976026209274\n",
      "Epoch: 500, loss: 0.1536027346399332\n"
     ]
    },
    {
     "data": {
      "image/png": "[encoded data removed]",
      "text/plain": [
       "<Figure size 432x288 with 1 Axes>"
      ]
     },
     "metadata": {
      "needs_background": "light"
     },
     "output_type": "display_data"
    }
   ],
   "source": [
    "from torch.autograd import Variable     \n",
    "import torch.nn as nn\n",
    "\n",
    "class LinearRegression(nn.Module):\n",
    "    def __init__(self, in_size, out_size):\n",
    "        super(LinearRegression,self).__init__()\n",
    "        self.linear = nn.Linear(in_size, out_size)\n",
    "    \n",
    "    def forward(self, x):\n",
    "        return self.linear(x)\n",
    "\n",
    "model = LinearRegression(1, 1)\n",
    "model = model.double()\n",
    "loss = nn.MSELoss()\n",
    "opt = torch.optim.SGD(model.parameters(), lr=0.02)\n",
    "losses = []\n",
    "n_epochs = 501\n",
    "for ep in range(n_epochs):\n",
    "    opt.zero_grad()\n",
    "    y_pred = model(car_prices_tensor)\n",
    "    l = loss(y_pred, car_sell_tensor)\n",
    "    l.backward()\n",
    "    opt.step()\n",
    "    losses.append(l.data)\n",
    "    if ep % 50 == 0:\n",
    "        print(f\"Epoch: {it}, loss: {l.data}\")\n",
    "\n",
    "plt.plot(range(n_epochs), losses)\n",
    "plt.show()"
   ]
  },
  {
   "cell_type": "markdown",
   "metadata": {},
   "source": [
    "## 1. Preparation\n",
    "- Download the pickle gzipped mnist dataset\n",
    "- Reshape to image and look at the data"
   ]
  },
  {
   "cell_type": "code",
   "execution_count": 469,
   "metadata": {},
   "outputs": [],
   "source": [
    "URL='http://deeplearning.net/data/mnist/'\n",
    "FILENAME='mnist.pkl.gz'\n",
    "path = 'data/mnist/'\n",
    "download_dataset(URL+FILENAME, path+FILENAME)\n",
    "((x, y), (x_valid, y_valid), _) = load_pickle(open_gzip(path+FILENAME))"
   ]
  },
  {
   "cell_type": "code",
   "execution_count": 470,
   "metadata": {},
   "outputs": [],
   "source": [
    "batch_size = 100\n",
    "\n",
    "X_train, X_test, Y_train, Y_test = train_test_split(x,y,test_size=0.2, random_state=42)\n",
    "x_train = torch.from_numpy(X_train)\n",
    "y_train = torch.from_numpy(Y_train).type(torch.LongTensor)\n",
    "x_test = torch.from_numpy(X_test)\n",
    "y_test = torch.from_numpy(Y_test).type(torch.LongTensor)\n",
    "\n",
    "n_iters = 10000\n",
    "num_epochs = n_iters / (len(X_train) / batch_size)\n",
    "num_epochs = int(num_epochs)\n",
    "\n",
    "train = torch.utils.data.TensorDataset(x_train, y_train)\n",
    "train_loader = torch.utils.data.DataLoader(train, batch_size = batch_size, shuffle = False)\n",
    "test = torch.utils.data.TensorDataset(x_test, y_test)\n",
    "test_loader = torch.utils.data.DataLoader(test, batch_size = batch_size, shuffle = False)"
   ]
  },
  {
   "cell_type": "code",
   "execution_count": 471,
   "metadata": {},
   "outputs": [
    {
     "data": {
      "image/png": "[encoded data removed]",
      "text/plain": [
       "<Figure size 432x288 with 1 Axes>"
      ]
     },
     "metadata": {
      "needs_background": "light"
     },
     "output_type": "display_data"
    }
   ],
   "source": [
    "plt.imshow(x[10].reshape(28,28))\n",
    "plt.axis(\"off\")\n",
    "plt.title(str(y[10]))\n",
    "plt.show()"
   ]
  },
  {
   "cell_type": "markdown",
   "metadata": {},
   "source": [
    "Dataset loading\n",
    "- inherit from utils.data.Dataset\n",
    "Source: https://pytorch.org/tutorials/beginner/data_loading_tutorial.html\n"
   ]
  },
  {
   "cell_type": "code",
   "execution_count": 472,
   "metadata": {},
   "outputs": [
    {
     "data": {
      "text/plain": [
       "Text(0.5, 1.0, '3')"
      ]
     },
     "execution_count": 472,
     "metadata": {},
     "output_type": "execute_result"
    },
    {
     "data": {
      "image/png": "[encoded data removed]",
      "text/plain": [
       "<Figure size 432x288 with 1 Axes>"
      ]
     },
     "metadata": {
      "needs_background": "light"
     },
     "output_type": "display_data"
    }
   ],
   "source": [
    "plt.imshow(x[10].reshape(28,28)[10:15, 10:15], cmap=\"gray\")\n",
    "plt.title(str(y[10]))"
   ]
  },
  {
   "cell_type": "markdown",
   "metadata": {},
   "source": [
    "## 2. Logistic Regression\n",
    "- define a logistic regression model with MSE as loss metric and SGD as an optimizer\n",
    "- run a train-test loop, evaluate model's performance"
   ]
  },
  {
   "cell_type": "code",
   "execution_count": 473,
   "metadata": {},
   "outputs": [],
   "source": [
    "class LogReg(nn.Module):\n",
    "    def __init__(self, in_size, out_size):\n",
    "        super(LogReg, self).__init__()\n",
    "        self.linear = nn.Linear(in_size, out_size)\n",
    "\n",
    "    def forward(self, x):\n",
    "        out = self.linear(x)\n",
    "        return out\n",
    "\n",
    "net = LogReg(28*28, 10)\n",
    "error=nn.CrossEntropyLoss()\n",
    "learning_rate = 1e-3\n",
    "optimizer=torch.optim.SGD(net.parameters(), lr=learning_rate)"
   ]
  },
  {
   "cell_type": "code",
   "execution_count": 474,
   "metadata": {},
   "outputs": [
    {
     "name": "stdout",
     "output_type": "stream",
     "text": [
      "Epoch: 0 Training Loss: 2.2991020679473877 Testing loss: 2.303285598754883  Accuracy: 0.16%\n",
      "Epoch: 1 Training Loss: 1.9474633932113647 Testing loss: 1.9161475896835327  Accuracy: 0.68%\n",
      "Epoch: 2 Training Loss: 1.690283179283142 Testing loss: 1.6350096464157104  Accuracy: 0.73%\n",
      "Epoch: 3 Training Loss: 1.498885989189148 Testing loss: 1.4256271123886108  Accuracy: 0.73%\n",
      "Epoch: 4 Training Loss: 1.3550158739089966 Testing loss: 1.2684024572372437  Accuracy: 0.75%\n",
      "Epoch: 5 Training Loss: 1.2444779872894287 Testing loss: 1.148242473602295  Accuracy: 0.78%\n",
      "Epoch: 6 Training Loss: 1.1574195623397827 Testing loss: 1.0543828010559082  Accuracy: 0.81%\n",
      "Epoch: 7 Training Loss: 1.0872372388839722 Testing loss: 0.9794471263885498  Accuracy: 0.82%\n",
      "Epoch: 8 Training Loss: 1.029482364654541 Testing loss: 0.9184052348136902  Accuracy: 0.82%\n",
      "Epoch: 9 Training Loss: 0.9811011552810669 Testing loss: 0.8677875399589539  Accuracy: 0.84%\n",
      "Epoch: 10 Training Loss: 0.9399465322494507 Testing loss: 0.8251558542251587  Accuracy: 0.84%\n",
      "Epoch: 11 Training Loss: 0.9044751524925232 Testing loss: 0.7887595295906067  Accuracy: 0.85%\n",
      "Epoch: 12 Training Loss: 0.8735523223876953 Testing loss: 0.7573173642158508  Accuracy: 0.86%\n",
      "Epoch: 13 Training Loss: 0.8463270664215088 Testing loss: 0.7298728227615356  Accuracy: 0.86%\n",
      "Epoch: 14 Training Loss: 0.8221490979194641 Testing loss: 0.7056987285614014  Accuracy: 0.86%\n",
      "Epoch: 15 Training Loss: 0.8005144000053406 Testing loss: 0.684233546257019  Accuracy: 0.86%\n",
      "Epoch: 16 Training Loss: 0.7810245752334595 Testing loss: 0.6650369763374329  Accuracy: 0.86%\n",
      "Epoch: 17 Training Loss: 0.7633625864982605 Testing loss: 0.6477595567703247  Accuracy: 0.86%\n",
      "Epoch: 18 Training Loss: 0.7472708225250244 Testing loss: 0.6321199536323547  Accuracy: 0.87%\n",
      "Epoch: 19 Training Loss: 0.7325395941734314 Testing loss: 0.6178895831108093  Accuracy: 0.87%\n",
      "Wall time: 32.6 s\n"
     ]
    }
   ],
   "source": [
    "def train_test_loop(model, n_epochs, train_loader, test_loader):\n",
    "    train_losses = []\n",
    "    test_losses = []\n",
    "    accuracies = []\n",
    "    for ep in range(n_epochs):\n",
    "        for i, (data, label) in enumerate(train_loader):\n",
    "            optimizer.zero_grad()\n",
    "            y_pred = model(Variable(data.view(-1, 28*28)))\n",
    "            train_loss = error(y_pred, Variable(label))\n",
    "            if i%1000 == 0:\n",
    "                train_losses.append(train_loss.data)\n",
    "            train_loss.backward()\n",
    "            optimizer.step()\n",
    "            \n",
    "            if i%1000 == 0:\n",
    "                for j, (data, label) in enumerate(test_loader):\n",
    "                    y_test_pred = model(Variable(data.view(-1, 28*28)))\n",
    "                    predicted = torch.max(y_test_pred.data, 1)[1]\n",
    "                    test_loss = error(y_test_pred, Variable(label))\n",
    "                    if j%1000 == 0:\n",
    "                        test_losses.append(test_loss.data)\n",
    "                        accuracies.append((predicted == label).numpy().mean())\n",
    "                print('Epoch: {} Training Loss: {} Testing loss: {}  Accuracy: {}%'.format(ep, train_loss.data, test_loss.data, accuracies[-1]))\n",
    "\n",
    "    return train_losses, test_losses, accuracies\n",
    "\n",
    "%time train_losses, test_losses, accuracies = train_test_loop(net, 20, train_loader, test_loader)"
   ]
  },
  {
   "cell_type": "code",
   "execution_count": 475,
   "metadata": {},
   "outputs": [
    {
     "data": {
      "text/plain": [
       "<matplotlib.legend.Legend at 0x19042547a20>"
      ]
     },
     "execution_count": 475,
     "metadata": {},
     "output_type": "execute_result"
    },
    {
     "data": {
      "image/png": "[encoded data removed]",
      "text/plain": [
       "<Figure size 432x288 with 1 Axes>"
      ]
     },
     "metadata": {
      "needs_background": "light"
     },
     "output_type": "display_data"
    }
   ],
   "source": [
    "plt.plot(train_losses, label='Training loss')\n",
    "plt.plot(test_losses, label='Test loss')\n",
    "plt.legend(frameon=False)"
   ]
  },
  {
   "cell_type": "code",
   "execution_count": 476,
   "metadata": {},
   "outputs": [
    {
     "data": {
      "text/plain": [
       "[<matplotlib.lines.Line2D at 0x190425f3160>]"
      ]
     },
     "execution_count": 476,
     "metadata": {},
     "output_type": "execute_result"
    },
    {
     "data": {
      "image/png": "[encoded data removed]",
      "text/plain": [
       "<Figure size 432x288 with 1 Axes>"
      ]
     },
     "metadata": {
      "needs_background": "light"
     },
     "output_type": "display_data"
    }
   ],
   "source": [
    "plt.plot(accuracies, label='Accuracies')"
   ]
  },
  {
   "cell_type": "markdown",
   "metadata": {},
   "source": [
    "The model doesn't really improve over ~88\\%, but we can do better with a Neural Network."
   ]
  },
  {
   "cell_type": "markdown",
   "metadata": {},
   "source": [
    "\n",
    "## 3. Neural Network\n",
    "- define a neural network with multiple hidden layers to improve the performance over Logistic Regression"
   ]
  },
  {
   "cell_type": "code",
   "execution_count": 477,
   "metadata": {},
   "outputs": [
    {
     "name": "stdout",
     "output_type": "stream",
     "text": [
      "Epoch: 0 Training Loss: 2.300734519958496 Testing loss: 2.3056294918060303  Accuracy: 0.11%\n",
      "Epoch: 1 Training Loss: 1.0585660934448242 Testing loss: 0.9599756002426147  Accuracy: 0.67%\n",
      "Epoch: 2 Training Loss: 0.5362233519554138 Testing loss: 0.4499911367893219  Accuracy: 0.88%\n",
      "Epoch: 3 Training Loss: 0.4147767722606659 Testing loss: 0.3487614393234253  Accuracy: 0.89%\n",
      "Epoch: 4 Training Loss: 0.356322318315506 Testing loss: 0.30593350529670715  Accuracy: 0.9%\n",
      "Epoch: 5 Training Loss: 0.3175126314163208 Testing loss: 0.2763453423976898  Accuracy: 0.91%\n",
      "Epoch: 6 Training Loss: 0.28630152344703674 Testing loss: 0.2532193064689636  Accuracy: 0.92%\n",
      "Epoch: 7 Training Loss: 0.25967076420783997 Testing loss: 0.23374143242835999  Accuracy: 0.93%\n",
      "Epoch: 8 Training Loss: 0.2371537834405899 Testing loss: 0.2161460518836975  Accuracy: 0.93%\n",
      "Epoch: 9 Training Loss: 0.2144729495048523 Testing loss: 0.19924837350845337  Accuracy: 0.93%\n",
      "Epoch: 10 Training Loss: 0.19468608498573303 Testing loss: 0.18292899429798126  Accuracy: 0.94%\n",
      "Epoch: 11 Training Loss: 0.17681719362735748 Testing loss: 0.16859517991542816  Accuracy: 0.94%\n",
      "Epoch: 12 Training Loss: 0.15944723784923553 Testing loss: 0.15461596846580505  Accuracy: 0.95%\n",
      "Epoch: 13 Training Loss: 0.14314685761928558 Testing loss: 0.14223745465278625  Accuracy: 0.95%\n",
      "Epoch: 14 Training Loss: 0.1281915307044983 Testing loss: 0.131750226020813  Accuracy: 0.95%\n",
      "Epoch: 15 Training Loss: 0.11433271318674088 Testing loss: 0.12364669889211655  Accuracy: 0.96%\n",
      "Epoch: 16 Training Loss: 0.1007026955485344 Testing loss: 0.11680187284946442  Accuracy: 0.96%\n",
      "Epoch: 17 Training Loss: 0.08859078586101532 Testing loss: 0.11126075685024261  Accuracy: 0.96%\n",
      "Epoch: 18 Training Loss: 0.07771649956703186 Testing loss: 0.10602600127458572  Accuracy: 0.96%\n",
      "Epoch: 19 Training Loss: 0.06815285980701447 Testing loss: 0.10191266238689423  Accuracy: 0.96%\n",
      "Wall time: 1min 20s\n"
     ]
    }
   ],
   "source": [
    "class ANN(nn.Module):\n",
    "    def __init__(self, in_size, hid_size, out_size):\n",
    "        super(ANN, self).__init__()\n",
    "        self.lin1 = nn.Linear(in_size, hid_size)\n",
    "        self.act1 = nn.ReLU()\n",
    "        self.lin2 = nn.Linear(hid_size, hid_size)\n",
    "        self.act2 = nn.Tanh()\n",
    "        self.lin3 = nn.Linear(hid_size, hid_size)\n",
    "        self.act3 = nn.ELU()\n",
    "        self.lin4 = nn.Linear(hid_size, out_size)\n",
    "        \n",
    "    def forward(self, x):\n",
    "        out = self.lin1(x)\n",
    "        out = self.act1(out)\n",
    "        out = self.lin2(out)\n",
    "        out = self.act2(out)\n",
    "        out = self.lin3(out)\n",
    "        out = self.act3(out)\n",
    "        out = self.lin4(out)\n",
    "        return out\n",
    "\n",
    "net = ANN(28*28, 150, 10)\n",
    "error=nn.CrossEntropyLoss()\n",
    "learning_rate = 0.02\n",
    "optimizer=torch.optim.SGD(net.parameters(), lr=learning_rate)\n",
    "\n",
    "%time train_losses, test_losses, accuracies = train_test_loop(net, 20, train_loader, test_loader)"
   ]
  },
  {
   "cell_type": "code",
   "execution_count": 478,
   "metadata": {},
   "outputs": [
    {
     "data": {
      "text/plain": [
       "<matplotlib.legend.Legend at 0x1904265ce48>"
      ]
     },
     "execution_count": 478,
     "metadata": {},
     "output_type": "execute_result"
    },
    {
     "data": {
      "image/png": "[encoded data removed]",
      "text/plain": [
       "<Figure size 432x288 with 1 Axes>"
      ]
     },
     "metadata": {
      "needs_background": "light"
     },
     "output_type": "display_data"
    }
   ],
   "source": [
    "plt.plot(train_losses, label='Training loss')\n",
    "plt.plot(test_losses, label='Test loss')\n",
    "plt.legend(frameon=False)"
   ]
  },
  {
   "cell_type": "code",
   "execution_count": 479,
   "metadata": {},
   "outputs": [
    {
     "data": {
      "text/plain": [
       "[<matplotlib.lines.Line2D at 0x19042730898>]"
      ]
     },
     "execution_count": 479,
     "metadata": {},
     "output_type": "execute_result"
    },
    {
     "data": {
      "image/png": "[encoded data removed]",
      "text/plain": [
       "<Figure size 432x288 with 1 Axes>"
      ]
     },
     "metadata": {
      "needs_background": "light"
     },
     "output_type": "display_data"
    }
   ],
   "source": [
    "plt.plot(accuracies, label='Accuracies')"
   ]
  },
  {
   "cell_type": "markdown",
   "metadata": {},
   "source": [
    "We've improved the accuracy from Logistic Regression model in over ~8\\%!"
   ]
  }
 ],
 "metadata": {
  "kernelspec": {
   "display_name": "Python 3",
   "language": "python",
   "name": "python3"
  },
  "language_info": {
   "codemirror_mode": {
    "name": "ipython",
    "version": 3
   },
   "file_extension": ".py",
   "mimetype": "text/x-python",
   "name": "python",
   "nbconvert_exporter": "python",
   "pygments_lexer": "ipython3",
   "version": "3.7.3"
  }
 },
 "nbformat": 4,
 "nbformat_minor": 2
}
